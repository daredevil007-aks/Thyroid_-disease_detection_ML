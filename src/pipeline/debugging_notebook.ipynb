{
 "cells": [
  {
   "cell_type": "code",
   "execution_count": 2,
   "metadata": {},
   "outputs": [],
   "source": [
    "from json import load\n",
    "import sys\n",
    "import os\n",
    "import pandas as pd\n",
    "import pickle\n"
   ]
  },
  {
   "cell_type": "code",
   "execution_count": 17,
   "metadata": {},
   "outputs": [],
   "source": [
    "def load_object(file_path):\n",
    "    try:\n",
    "        with open(file_path, 'rb') as file_obj:\n",
    "            return pickle.load(file_obj)\n",
    "    except Exception as e:\n",
    "        logging.info('Exception Occured in load_object function')\n",
    "        raise CustomException(e, sys)"
   ]
  },
  {
   "cell_type": "code",
   "execution_count": 3,
   "metadata": {},
   "outputs": [],
   "source": [
    "preprocessor_path = os.path.join('artifacts','preprocessor.pkl')\n",
    "model_path = os.path.join('artifacts','model.pkl')\n",
    "\n",
    "output = os.path.normpath(model_path)\n",
    "# preprocessor = load_object(preprocessor_path)\n",
    "# model = load_object(model_path)"
   ]
  },
  {
   "cell_type": "code",
   "execution_count": 4,
   "metadata": {},
   "outputs": [],
   "source": [
    "output = model_path.replace('\\\\', '/')"
   ]
  },
  {
   "cell_type": "code",
   "execution_count": 5,
   "metadata": {},
   "outputs": [
    {
     "data": {
      "text/plain": [
       "'artifacts/model.pkl'"
      ]
     },
     "execution_count": 5,
     "metadata": {},
     "output_type": "execute_result"
    }
   ],
   "source": [
    "output"
   ]
  },
  {
   "cell_type": "code",
   "execution_count": 32,
   "metadata": {},
   "outputs": [],
   "source": [
    "def predict(features):\n",
    "        # try:\n",
    "            preprocessor_path = os.path.join('artifacts','preprocessor.pkl')\n",
    "            model_path = os.path.join('artifacts','model.pkl')\n",
    "\n",
    "            output = os.path.normpath(preprocessor_path)\n",
    "            preprocessor_path = preprocessor_path.replace('\\\\', '/')\n",
    "\n",
    "            output = os.path.normpath(model_path)\n",
    "            model_path = model_path.replace('\\\\', '/')\n",
    "\n",
    "            preprocessor = load_object(preprocessor_path)\n",
    "            model = load_object(model_path)\n",
    "\n",
    "            data_scaled=preprocessor.transform(features)\n",
    "            pred=model.predict(data_scaled)\n",
    "            return pred\n",
    "\n",
    "        # except Exception as e:\n",
    "        #     logging.info('Exception occured in prediction')\n",
    "        #     raise CustomException(e, sys)"
   ]
  },
  {
   "cell_type": "code",
   "execution_count": 135,
   "metadata": {},
   "outputs": [],
   "source": [
    "test_path = os.path.join('artifacts','test.csv')\n",
    "data = pd.read_csv(test_path)"
   ]
  },
  {
   "cell_type": "code",
   "execution_count": 7,
   "metadata": {},
   "outputs": [],
   "source": [
    "pickle_file = \"artifacts\\model.pkl\""
   ]
  },
  {
   "cell_type": "code",
   "execution_count": 35,
   "metadata": {},
   "outputs": [],
   "source": [
    "preprocessor = \"artifacts\\preprocessor.pkl\""
   ]
  },
  {
   "cell_type": "code",
   "execution_count": 12,
   "metadata": {},
   "outputs": [
    {
     "name": "stdout",
     "output_type": "stream",
     "text": [
      "e:\\ML\\Thyroid_-disease_detection_ML\n"
     ]
    }
   ],
   "source": [
    "cd .."
   ]
  },
  {
   "cell_type": "code",
   "execution_count": 13,
   "metadata": {},
   "outputs": [],
   "source": [
    "with open(pickle_file, 'rb') as file:\n",
    "    # Load the object stored in the pickle file\n",
    "    loaded_object = pickle.load(file)"
   ]
  },
  {
   "cell_type": "code",
   "execution_count": 14,
   "metadata": {},
   "outputs": [],
   "source": [
    "with open(preprocessor, 'rb') as file:\n",
    "    # Load the object stored in the pickle file\n",
    "    pre = pickle.load(file)"
   ]
  },
  {
   "cell_type": "code",
   "execution_count": 15,
   "metadata": {},
   "outputs": [],
   "source": [
    "from sklearn.preprocessing import LabelEncoder"
   ]
  },
  {
   "cell_type": "code",
   "execution_count": 57,
   "metadata": {},
   "outputs": [],
   "source": [
    "# data.drop(columns='binaryClass',inplace=True)\n"
   ]
  },
  {
   "cell_type": "code",
   "execution_count": 138,
   "metadata": {},
   "outputs": [],
   "source": [
    "input = data.iloc[2]"
   ]
  },
  {
   "cell_type": "code",
   "execution_count": 139,
   "metadata": {},
   "outputs": [
    {
     "data": {
      "text/plain": [
       "age                           50.0\n",
       "sex                              F\n",
       "on_thyroxine                     t\n",
       "query_on_thyroxine               f\n",
       "on_antithyroid_medication        f\n",
       "sick                             f\n",
       "pregnant                         f\n",
       "thyroid_surgery                  f\n",
       "I131_treatment                   f\n",
       "query_hypothyroid                t\n",
       "query_hyperthyroid               f\n",
       "lithium                          f\n",
       "goitre                           f\n",
       "tumor                            f\n",
       "hypopituitary                    f\n",
       "psych                            f\n",
       "TSH_measured                     t\n",
       "TSH                            1.7\n",
       "T3_measured                      t\n",
       "T3                             1.8\n",
       "TT4_measured                     t\n",
       "TT4                          113.0\n",
       "T4U_measured                     t\n",
       "T4U                           1.01\n",
       "FTI_measured                     t\n",
       "FTI                          112.0\n",
       "TBG_measured                     f\n",
       "referral_source               STMW\n",
       "binaryClass                      P\n",
       "Name: 2, dtype: object"
      ]
     },
     "execution_count": 139,
     "metadata": {},
     "output_type": "execute_result"
    }
   ],
   "source": [
    "input"
   ]
  },
  {
   "cell_type": "code",
   "execution_count": 141,
   "metadata": {},
   "outputs": [],
   "source": [
    "X = input.drop(labels=['binaryClass'])"
   ]
  },
  {
   "cell_type": "code",
   "execution_count": 143,
   "metadata": {},
   "outputs": [],
   "source": [
    "Y = input['binaryClass']"
   ]
  },
  {
   "cell_type": "code",
   "execution_count": 142,
   "metadata": {},
   "outputs": [
    {
     "data": {
      "text/plain": [
       "age                           50.0\n",
       "sex                              F\n",
       "on_thyroxine                     t\n",
       "query_on_thyroxine               f\n",
       "on_antithyroid_medication        f\n",
       "sick                             f\n",
       "pregnant                         f\n",
       "thyroid_surgery                  f\n",
       "I131_treatment                   f\n",
       "query_hypothyroid                t\n",
       "query_hyperthyroid               f\n",
       "lithium                          f\n",
       "goitre                           f\n",
       "tumor                            f\n",
       "hypopituitary                    f\n",
       "psych                            f\n",
       "TSH_measured                     t\n",
       "TSH                            1.7\n",
       "T3_measured                      t\n",
       "T3                             1.8\n",
       "TT4_measured                     t\n",
       "TT4                          113.0\n",
       "T4U_measured                     t\n",
       "T4U                           1.01\n",
       "FTI_measured                     t\n",
       "FTI                          112.0\n",
       "TBG_measured                     f\n",
       "referral_source               STMW\n",
       "Name: 2, dtype: object"
      ]
     },
     "execution_count": 142,
     "metadata": {},
     "output_type": "execute_result"
    }
   ],
   "source": [
    "X"
   ]
  },
  {
   "cell_type": "code",
   "execution_count": 147,
   "metadata": {},
   "outputs": [],
   "source": [
    "X = pd.DataFrame(X)"
   ]
  },
  {
   "cell_type": "code",
   "execution_count": 122,
   "metadata": {},
   "outputs": [],
   "source": [
    "result = pre.verbose_feature_names_out"
   ]
  },
  {
   "cell_type": "code",
   "execution_count": 124,
   "metadata": {},
   "outputs": [
    {
     "data": {
      "text/plain": [
       "True"
      ]
     },
     "execution_count": 124,
     "metadata": {},
     "output_type": "execute_result"
    }
   ],
   "source": [
    "result"
   ]
  }
 ],
 "metadata": {
  "kernelspec": {
   "display_name": "Python 3.10.4 ('thy': venv)",
   "language": "python",
   "name": "python3"
  },
  "language_info": {
   "codemirror_mode": {
    "name": "ipython",
    "version": 3
   },
   "file_extension": ".py",
   "mimetype": "text/x-python",
   "name": "python",
   "nbconvert_exporter": "python",
   "pygments_lexer": "ipython3",
   "version": "3.10.4"
  },
  "orig_nbformat": 4,
  "vscode": {
   "interpreter": {
    "hash": "3096ddd9c34dc8a788d8cd9bfd915e01480669a04d17a55fe9daba87a6c5d8a1"
   }
  }
 },
 "nbformat": 4,
 "nbformat_minor": 2
}
