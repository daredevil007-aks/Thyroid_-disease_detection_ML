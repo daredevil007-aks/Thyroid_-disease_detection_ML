{
 "cells": [
  {
   "cell_type": "code",
   "execution_count": 16,
   "metadata": {},
   "outputs": [],
   "source": [
    "from json import load\n",
    "import sys\n",
    "import os\n",
    "import pandas as pd\n",
    "import pickle\n"
   ]
  },
  {
   "cell_type": "code",
   "execution_count": 17,
   "metadata": {},
   "outputs": [],
   "source": [
    "def load_object(file_path):\n",
    "    try:\n",
    "        with open(file_path, 'rb') as file_obj:\n",
    "            return pickle.load(file_obj)\n",
    "    except Exception as e:\n",
    "        logging.info('Exception Occured in load_object function')\n",
    "        raise CustomException(e, sys)"
   ]
  },
  {
   "cell_type": "code",
   "execution_count": 28,
   "metadata": {},
   "outputs": [],
   "source": [
    "preprocessor_path = os.path.join('artifacts','preprocessor.pkl')\n",
    "model_path = os.path.join('artifacts','model.pkl')\n",
    "\n",
    "output = os.path.normpath(model_path)\n",
    "# preprocessor = load_object(preprocessor_path)\n",
    "# model = load_object(model_path)"
   ]
  },
  {
   "cell_type": "code",
   "execution_count": 30,
   "metadata": {},
   "outputs": [],
   "source": [
    "output = model_path.replace('\\\\', '/')"
   ]
  },
  {
   "cell_type": "code",
   "execution_count": 31,
   "metadata": {},
   "outputs": [
    {
     "data": {
      "text/plain": [
       "'artifacts/model.pkl'"
      ]
     },
     "execution_count": 31,
     "metadata": {},
     "output_type": "execute_result"
    }
   ],
   "source": [
    "output"
   ]
  },
  {
   "cell_type": "code",
   "execution_count": 32,
   "metadata": {},
   "outputs": [],
   "source": [
    "def predict(features):\n",
    "        # try:\n",
    "            preprocessor_path = os.path.join('artifacts','preprocessor.pkl')\n",
    "            model_path = os.path.join('artifacts','model.pkl')\n",
    "\n",
    "            output = os.path.normpath(preprocessor_path)\n",
    "            preprocessor_path = preprocessor_path.replace('\\\\', '/')\n",
    "\n",
    "            output = os.path.normpath(model_path)\n",
    "            model_path = model_path.replace('\\\\', '/')\n",
    "\n",
    "            preprocessor = load_object(preprocessor_path)\n",
    "            model = load_object(model_path)\n",
    "\n",
    "            data_scaled=preprocessor.transform(features)\n",
    "            pred=model.predict(data_scaled)\n",
    "            return pred\n",
    "\n",
    "        # except Exception as e:\n",
    "        #     logging.info('Exception occured in prediction')\n",
    "        #     raise CustomException(e, sys)"
   ]
  },
  {
   "cell_type": "code",
   "execution_count": 33,
   "metadata": {},
   "outputs": [],
   "source": [
    "test_path = os.path.join('artifacts','test.csv')"
   ]
  },
  {
   "cell_type": "code",
   "execution_count": 58,
   "metadata": {},
   "outputs": [],
   "source": [
    "pickle_file = \"artifacts\\model.pkl\""
   ]
  },
  {
   "cell_type": "code",
   "execution_count": 60,
   "metadata": {},
   "outputs": [],
   "source": [
    "preprocessor = \"artifacts\\preprocessor.pkl\""
   ]
  },
  {
   "cell_type": "code",
   "execution_count": 59,
   "metadata": {},
   "outputs": [],
   "source": [
    "with open(pickle_file, 'rb') as file:\n",
    "    # Load the object stored in the pickle file\n",
    "    loaded_object = pickle.load(file)"
   ]
  },
  {
   "cell_type": "code",
   "execution_count": 61,
   "metadata": {},
   "outputs": [],
   "source": [
    "with open(preprocessor, 'rb') as file:\n",
    "    # Load the object stored in the pickle file\n",
    "    pre = pickle.load(file)"
   ]
  },
  {
   "cell_type": "code",
   "execution_count": null,
   "metadata": {},
   "outputs": [],
   "source": []
  }
 ],
 "metadata": {
  "kernelspec": {
   "display_name": "Python 3.10.4 ('thy': venv)",
   "language": "python",
   "name": "python3"
  },
  "language_info": {
   "codemirror_mode": {
    "name": "ipython",
    "version": 3
   },
   "file_extension": ".py",
   "mimetype": "text/x-python",
   "name": "python",
   "nbconvert_exporter": "python",
   "pygments_lexer": "ipython3",
   "version": "3.10.4"
  },
  "orig_nbformat": 4,
  "vscode": {
   "interpreter": {
    "hash": "3096ddd9c34dc8a788d8cd9bfd915e01480669a04d17a55fe9daba87a6c5d8a1"
   }
  }
 },
 "nbformat": 4,
 "nbformat_minor": 2
}
